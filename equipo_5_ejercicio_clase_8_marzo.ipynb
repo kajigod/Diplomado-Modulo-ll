{
  "cells": [
    {
      "cell_type": "markdown",
      "id": "9006017e-5436-40da-9887-d678d3d1423f",
      "metadata": {
        "id": "9006017e-5436-40da-9887-d678d3d1423f"
      },
      "source": [
        "# Probabilidad Laplaciana (clásica)\n",
        "\n",
        "Equipo 5:\n",
        "\n",
        "Para un experimento aleatoriom se tiene que $\\Omega$ es el espacio muestral.\n",
        "\n",
        "Sea $A$ un evento, entonces\n",
        "\n",
        "$$ \\mathbb{P}(A) = \\frac{\\#A}{\\#\\Omega} $$\n",
        "\n",
        "**EJEMPLO:** Sea el experimento de lanzar una moneda 3 veces, de manera independiente (es decir, el $i$-ésimo lanzamiento no me afecta al $i+1$ lanzamiento). El espacio muestral de este experimento es:\n",
        "\n",
        "$$ \\Omega = \\{A,S\\} \\times \\{A,S\\} \\times \\{A,S\\} = \\{A,S\\}^3 $$\n",
        "\n",
        "y tenemos que $\\#\\Omega = 2^3$.\n",
        "\n",
        "Sean los eventos:\n",
        "* $A$: todos los resultados son águila\n",
        "* $S$: todos los resultados son soles\n",
        "* $E$: por lo menos un resultado es sol\n",
        "\n",
        "Calcular las probabilidades de estos eventos:\n",
        "\n",
        "**Solución** Vamos a descomponer mi conjunto $A$ de la siguiente manera:\n",
        "$$A = A_1 \\cap A_2 \\cap A_3 $$\n",
        "donde $A_1$: caé águila en el $i$-ésimo resultado."
      ]
    },
    {
      "cell_type": "code",
      "execution_count": null,
      "id": "48a147b1-0d9c-4577-9ee4-6363ddd4ca10",
      "metadata": {
        "id": "48a147b1-0d9c-4577-9ee4-6363ddd4ca10",
        "outputId": "7ef4a3db-90ec-47a0-87e9-b7e5cebdc966"
      },
      "outputs": [
        {
          "data": {
            "text/plain": [
              "{('A', 'A', 'A'),\n",
              " ('A', 'A', 'S'),\n",
              " ('A', 'S', 'A'),\n",
              " ('A', 'S', 'S'),\n",
              " ('S', 'A', 'A'),\n",
              " ('S', 'A', 'S'),\n",
              " ('S', 'S', 'A'),\n",
              " ('S', 'S', 'S')}"
            ]
          },
          "execution_count": 18,
          "metadata": {},
          "output_type": "execute_result"
        }
      ],
      "source": [
        "# Vamos a crear el espacio muestral\n",
        "import itertools #importamos el modulo\n",
        "from itertools import product\n",
        "\n",
        "Omega = set(product({\"A\",\"S\"},repeat = 3))\n",
        "Omega"
      ]
    },
    {
      "cell_type": "code",
      "execution_count": null,
      "id": "ee46c430-9020-4014-bd48-9707243d0c3f",
      "metadata": {
        "id": "ee46c430-9020-4014-bd48-9707243d0c3f",
        "outputId": "aa9cba7c-0e70-4aba-8041-c19dd2c46d66"
      },
      "outputs": [
        {
          "data": {
            "text/plain": [
              "8"
            ]
          },
          "execution_count": 21,
          "metadata": {},
          "output_type": "execute_result"
        }
      ],
      "source": [
        "len(Omega) #cardinalidad de Omega"
      ]
    },
    {
      "cell_type": "code",
      "execution_count": null,
      "id": "edf5e838-ab76-469b-b0f3-9fd3b5e0925b",
      "metadata": {
        "id": "edf5e838-ab76-469b-b0f3-9fd3b5e0925b",
        "outputId": "7c9a5952-06c3-4ce0-d105-13f4d2ab670e"
      },
      "outputs": [
        {
          "data": {
            "text/plain": [
              "{('A', 'A', 'A'), ('A', 'A', 'S'), ('A', 'S', 'A'), ('A', 'S', 'S')}"
            ]
          },
          "execution_count": 23,
          "metadata": {},
          "output_type": "execute_result"
        }
      ],
      "source": [
        "# Vamos a crear el evento A_1\n",
        "A_1 = {om for om in Omega if om[0] == \"A\"} # la primera coordenada es águila\n",
        "A_1"
      ]
    },
    {
      "cell_type": "code",
      "execution_count": null,
      "id": "c71ab39c-e261-4ec9-8655-404b873e1c31",
      "metadata": {
        "id": "c71ab39c-e261-4ec9-8655-404b873e1c31",
        "outputId": "feb1c14c-014b-44d5-9b29-66ada2fdbbab"
      },
      "outputs": [
        {
          "data": {
            "text/plain": [
              "{('A', 'A', 'A'), ('A', 'A', 'S'), ('S', 'A', 'A'), ('S', 'A', 'S')}"
            ]
          },
          "execution_count": 25,
          "metadata": {},
          "output_type": "execute_result"
        }
      ],
      "source": [
        "# Vamos a crear el evento A_2\n",
        "A_2 = {om for om in Omega if om[1] == \"A\"} # la segunda coordenada es águila\n",
        "A_2"
      ]
    },
    {
      "cell_type": "code",
      "execution_count": null,
      "id": "507c3372-1663-420e-8d8d-2009ed2650bb",
      "metadata": {
        "id": "507c3372-1663-420e-8d8d-2009ed2650bb",
        "outputId": "d4be776f-cd71-4a2f-f60b-4d42dce40385"
      },
      "outputs": [
        {
          "data": {
            "text/plain": [
              "{('A', 'A', 'A'), ('A', 'S', 'A'), ('S', 'A', 'A'), ('S', 'S', 'A')}"
            ]
          },
          "execution_count": 27,
          "metadata": {},
          "output_type": "execute_result"
        }
      ],
      "source": [
        "# Vamos a crear el evento A_3\n",
        "A_3 = {om for om in Omega if om[2] == \"A\"} # la tercera coordenada es águila\n",
        "A_3"
      ]
    },
    {
      "cell_type": "code",
      "execution_count": null,
      "id": "590750a8-4d53-47f1-bb0d-24be0b47742e",
      "metadata": {
        "id": "590750a8-4d53-47f1-bb0d-24be0b47742e",
        "outputId": "01214cce-f6a1-45c5-eda0-02c028908260"
      },
      "outputs": [
        {
          "data": {
            "text/plain": [
              "{('A', 'A', 'A')}"
            ]
          },
          "execution_count": 29,
          "metadata": {},
          "output_type": "execute_result"
        }
      ],
      "source": [
        "# Vamos a crear el evento A\n",
        "A = A_1.intersection(A_2.intersection(A_3))\n",
        "A"
      ]
    },
    {
      "cell_type": "code",
      "execution_count": null,
      "id": "58404e7f-9f82-4ed5-b9c3-3a11bf83fbbc",
      "metadata": {
        "id": "58404e7f-9f82-4ed5-b9c3-3a11bf83fbbc",
        "outputId": "1a0d938d-fe06-4de3-b7d8-37ccfeb00d0c"
      },
      "outputs": [
        {
          "data": {
            "text/plain": [
              "1"
            ]
          },
          "execution_count": 31,
          "metadata": {},
          "output_type": "execute_result"
        }
      ],
      "source": [
        "len(A)"
      ]
    },
    {
      "cell_type": "code",
      "execution_count": null,
      "id": "a77de0c1-aad6-4aec-bea5-39f547717812",
      "metadata": {
        "id": "a77de0c1-aad6-4aec-bea5-39f547717812",
        "outputId": "1a439134-7e03-4a12-acd1-32ef5b4bd1cb"
      },
      "outputs": [
        {
          "data": {
            "text/plain": [
              "0.125"
            ]
          },
          "execution_count": 33,
          "metadata": {},
          "output_type": "execute_result"
        }
      ],
      "source": [
        "# Vamos a calcular la probabilidad de A\n",
        "P_A = len(A) / len(Omega)\n",
        "P_A"
      ]
    },
    {
      "cell_type": "markdown",
      "id": "af4dcd99-7a58-49d2-9bf7-9fb288fe8f46",
      "metadata": {
        "id": "af4dcd99-7a58-49d2-9bf7-9fb288fe8f46"
      },
      "source": [
        "Expresar resultado en fracción:"
      ]
    },
    {
      "cell_type": "code",
      "execution_count": null,
      "id": "f2a5ea4b-31a5-41c8-a449-b821c74986ad",
      "metadata": {
        "id": "f2a5ea4b-31a5-41c8-a449-b821c74986ad"
      },
      "outputs": [],
      "source": [
        "from fractions import Fraction\n",
        "\n",
        "def p(E, Omega):\n",
        "    p = Fraction(len(E), len(Omega))\n",
        "    return p"
      ]
    },
    {
      "cell_type": "code",
      "execution_count": null,
      "id": "2bd0aeaa-6893-4c04-9c2a-9dc892710d9a",
      "metadata": {
        "id": "2bd0aeaa-6893-4c04-9c2a-9dc892710d9a",
        "outputId": "aaed6c0c-ccc9-4a6c-a7b4-b738f93da8d3"
      },
      "outputs": [
        {
          "data": {
            "text/plain": [
              "Fraction(1, 8)"
            ]
          },
          "execution_count": 38,
          "metadata": {},
          "output_type": "execute_result"
        }
      ],
      "source": [
        "prob = p(A, Omega)\n",
        "prob"
      ]
    },
    {
      "cell_type": "code",
      "execution_count": null,
      "id": "71ca4bb9-1d36-4fec-8403-e6e206de46be",
      "metadata": {
        "id": "71ca4bb9-1d36-4fec-8403-e6e206de46be",
        "outputId": "dfb9429c-0c78-4a20-9ead-b010b6875394"
      },
      "outputs": [
        {
          "data": {
            "text/plain": [
              "{('S', 'A', 'A'), ('S', 'A', 'S'), ('S', 'S', 'A'), ('S', 'S', 'S')}"
            ]
          },
          "execution_count": 41,
          "metadata": {},
          "output_type": "execute_result"
        }
      ],
      "source": [
        "# Vamos a crear el evento S_1\n",
        "S_1 = {om for om in Omega if om[0] == \"S\"} # la primera coordenada es sol\n",
        "S_1"
      ]
    },
    {
      "cell_type": "code",
      "execution_count": null,
      "id": "ac83adc6-6fe4-416a-ac37-2290942ea7ee",
      "metadata": {
        "jupyter": {
          "source_hidden": true
        },
        "id": "ac83adc6-6fe4-416a-ac37-2290942ea7ee",
        "outputId": "ef82e755-63e3-4aba-f3eb-be5f8dd90631"
      },
      "outputs": [
        {
          "data": {
            "text/plain": [
              "{('A', 'S', 'A'), ('A', 'S', 'S'), ('S', 'S', 'A'), ('S', 'S', 'S')}"
            ]
          },
          "execution_count": 43,
          "metadata": {},
          "output_type": "execute_result"
        }
      ],
      "source": [
        "# Vamos a crear el evento S_2\n",
        "S_2 = {om for om in Omega if om[1] == \"S\"} # la segunda coordenada es sol\n",
        "S_2"
      ]
    },
    {
      "cell_type": "code",
      "execution_count": null,
      "id": "ca72b9f8-fd74-4f96-927a-679e4bf2e86a",
      "metadata": {
        "id": "ca72b9f8-fd74-4f96-927a-679e4bf2e86a",
        "outputId": "00c531c2-2a77-436e-8790-769dee6587a9"
      },
      "outputs": [
        {
          "data": {
            "text/plain": [
              "{('A', 'A', 'S'), ('A', 'S', 'S'), ('S', 'A', 'S'), ('S', 'S', 'S')}"
            ]
          },
          "execution_count": 47,
          "metadata": {},
          "output_type": "execute_result"
        }
      ],
      "source": [
        "# Vamos a crear el evento S_3\n",
        "S_3 = {om for om in Omega if om[2] == \"S\"} # la tercera coordenada es sol\n",
        "S_3"
      ]
    },
    {
      "cell_type": "code",
      "execution_count": null,
      "id": "46f633ef-7b2b-40ac-a332-9e9ed71109f2",
      "metadata": {
        "id": "46f633ef-7b2b-40ac-a332-9e9ed71109f2",
        "outputId": "ae679cc5-d916-4d06-bc04-173d605eb7c5"
      },
      "outputs": [
        {
          "data": {
            "text/plain": [
              "{('S', 'S', 'S')}"
            ]
          },
          "execution_count": 49,
          "metadata": {},
          "output_type": "execute_result"
        }
      ],
      "source": [
        "# Vamos a crear el evento S\n",
        "S = S_1.intersection(S_2.intersection(S_3))\n",
        "S"
      ]
    },
    {
      "cell_type": "code",
      "execution_count": null,
      "id": "d54f7e3f-4088-4d6d-9893-006714e0e61a",
      "metadata": {
        "id": "d54f7e3f-4088-4d6d-9893-006714e0e61a",
        "outputId": "8bfefc92-0c77-48b3-9995-041daca3a0b2"
      },
      "outputs": [
        {
          "data": {
            "text/plain": [
              "1"
            ]
          },
          "execution_count": 51,
          "metadata": {},
          "output_type": "execute_result"
        }
      ],
      "source": [
        "len(S)"
      ]
    },
    {
      "cell_type": "code",
      "execution_count": null,
      "id": "1d34eb0a-a6d5-451d-a699-aa7c621799c3",
      "metadata": {
        "id": "1d34eb0a-a6d5-451d-a699-aa7c621799c3",
        "outputId": "95f4198b-bde2-403c-a4f8-bef8849c3fea"
      },
      "outputs": [
        {
          "data": {
            "text/plain": [
              "0.125"
            ]
          },
          "execution_count": 53,
          "metadata": {},
          "output_type": "execute_result"
        }
      ],
      "source": [
        "# Vamos a calcular la probabilidad de S\n",
        "P_S = len(S) / len(Omega)\n",
        "P_S"
      ]
    },
    {
      "cell_type": "code",
      "execution_count": null,
      "id": "17cbc9c4-0f45-4890-a346-38c4aeeb811d",
      "metadata": {
        "id": "17cbc9c4-0f45-4890-a346-38c4aeeb811d",
        "outputId": "33e89410-5ea3-4567-d02d-4c09bb6ca827"
      },
      "outputs": [
        {
          "data": {
            "text/plain": [
              "{('A', 'A', 'S'),\n",
              " ('A', 'S', 'A'),\n",
              " ('A', 'S', 'S'),\n",
              " ('S', 'A', 'A'),\n",
              " ('S', 'A', 'S'),\n",
              " ('S', 'S', 'A'),\n",
              " ('S', 'S', 'S')}"
            ]
          },
          "execution_count": 84,
          "metadata": {},
          "output_type": "execute_result"
        }
      ],
      "source": [
        "# Vamos a crear el evento E_1\n",
        "E_1 = {om for om in Omega if om[0] == \"S\"}\n",
        "E_2 = {om for om in Omega if om[1] == \"S\"}\n",
        "E_3 = {om for om in Omega if om[2] == \"S\"}\n",
        "\n",
        "E = E_1.union(E_2.union(E_3))\n",
        "E"
      ]
    },
    {
      "cell_type": "code",
      "execution_count": null,
      "id": "f557008c-88d7-4f05-8994-a24bd91a30e4",
      "metadata": {
        "id": "f557008c-88d7-4f05-8994-a24bd91a30e4",
        "outputId": "47548d84-4fca-4b07-e7c9-d72d31c1a90a"
      },
      "outputs": [
        {
          "data": {
            "text/plain": [
              "7"
            ]
          },
          "execution_count": 86,
          "metadata": {},
          "output_type": "execute_result"
        }
      ],
      "source": [
        "len(E)"
      ]
    },
    {
      "cell_type": "code",
      "execution_count": null,
      "id": "b0834197-d6c1-45ff-9e1e-aa2aebb326f3",
      "metadata": {
        "id": "b0834197-d6c1-45ff-9e1e-aa2aebb326f3",
        "outputId": "aece4a8b-e920-4871-818f-97cb0930ffd4"
      },
      "outputs": [
        {
          "data": {
            "text/plain": [
              "0.875"
            ]
          },
          "execution_count": 88,
          "metadata": {},
          "output_type": "execute_result"
        }
      ],
      "source": [
        "# Vamos a calcular la probabilidad de E\n",
        "P_E = len(E) / len(Omega)\n",
        "P_E"
      ]
    },
    {
      "cell_type": "code",
      "execution_count": null,
      "id": "5ecd2356-f963-4fc7-b2a7-68b68b7487e1",
      "metadata": {
        "id": "5ecd2356-f963-4fc7-b2a7-68b68b7487e1"
      },
      "outputs": [],
      "source": []
    }
  ],
  "metadata": {
    "kernelspec": {
      "display_name": "Python 3 (ipykernel)",
      "language": "python",
      "name": "python3"
    },
    "language_info": {
      "codemirror_mode": {
        "name": "ipython",
        "version": 3
      },
      "file_extension": ".py",
      "mimetype": "text/x-python",
      "name": "python",
      "nbconvert_exporter": "python",
      "pygments_lexer": "ipython3",
      "version": "3.12.7"
    },
    "colab": {
      "provenance": []
    }
  },
  "nbformat": 4,
  "nbformat_minor": 5
}