{
  "nbformat": 4,
  "nbformat_minor": 0,
  "metadata": {
    "colab": {
      "provenance": []
    },
    "kernelspec": {
      "name": "python3",
      "display_name": "Python 3"
    },
    "language_info": {
      "name": "python"
    }
  },
  "cells": [
    {
      "cell_type": "markdown",
      "source": [
        "# ¿Qué es Python?\n",
        "\n",
        "---\n",
        "\n"
      ],
      "metadata": {
        "id": "YD6_85EAHmVv"
      }
    },
    {
      "cell_type": "markdown",
      "source": [
        "Es un lenguaje de programación orientado a **objetos**.\n",
        "\n",
        "Estos objetos son:\n",
        "\n",
        "\n",
        "*   enteros (int)\n",
        "*   decimales (float)\n",
        "*   cadena de caracteres (str)\n",
        "*   listas (list)\n",
        "*   vectores (arrays)\n",
        "*   conjuntos (set)\n",
        "*   booleanos (boolean)\n",
        "\n",
        "\n",
        "\n",
        "\n",
        "\n",
        "\n",
        "\n",
        "\n",
        "\n"
      ],
      "metadata": {
        "id": "WCPeKgVqHx-n"
      }
    },
    {
      "cell_type": "code",
      "execution_count": null,
      "metadata": {
        "colab": {
          "base_uri": "https://localhost:8080/"
        },
        "id": "pnzHIJPRGnDT",
        "outputId": "b46ac6a0-326d-4a81-ae7b-56e8a378efa2"
      },
      "outputs": [
        {
          "output_type": "stream",
          "name": "stdout",
          "text": [
            "Hola mundo\n"
          ]
        }
      ],
      "source": [
        "# Primer ejemplo (poner un comentario) <- comentario\n",
        "print(\"Hola mundo\")"
      ]
    },
    {
      "cell_type": "code",
      "source": [
        "print(5+9) #suma\n",
        "print(5/9) #division\n",
        "print(5*9) #multiplicacion\n",
        "print(5**9) #potencia\n",
        "print(4//5) #division al piso"
      ],
      "metadata": {
        "colab": {
          "base_uri": "https://localhost:8080/"
        },
        "id": "PCIRDdg0Ir1m",
        "outputId": "e008c7d0-11a0-4d5e-a0e6-28382a190ace"
      },
      "execution_count": null,
      "outputs": [
        {
          "output_type": "stream",
          "name": "stdout",
          "text": [
            "14\n",
            "0.5555555555555556\n",
            "45\n",
            "1953125\n",
            "0\n"
          ]
        }
      ]
    },
    {
      "cell_type": "markdown",
      "source": [
        "Sea $x ∈ \\mathbb{R}$, la función piso se define como sigue:\n",
        "\n",
        "$$ ⌊ x ⌋ = \\max \\{ \\min m ∈ \\mathbb{Z} \\mid m \\leq x \\} $$"
      ],
      "metadata": {
        "id": "Z37MTCdbJiJh"
      }
    },
    {
      "cell_type": "markdown",
      "source": [
        "También podemos hacer la operación modular:\n",
        "\n",
        "Sean $a,b$ ∈ \\mathbb{R} $\n",
        "\n",
        "El residuo de dividir $a$ entre $b$ se llama **operación modular** y en Python se escribe como:\n",
        "\n",
        "**a%b**"
      ],
      "metadata": {
        "id": "ziFyC5QmLZNV"
      }
    },
    {
      "cell_type": "code",
      "source": [
        "5%2"
      ],
      "metadata": {
        "colab": {
          "base_uri": "https://localhost:8080/"
        },
        "id": "bkUb792zMRZH",
        "outputId": "f63210a1-98b3-4bdf-d358-f83718ad3a5e"
      },
      "execution_count": null,
      "outputs": [
        {
          "output_type": "execute_result",
          "data": {
            "text/plain": [
              "1"
            ]
          },
          "metadata": {},
          "execution_count": 4
        }
      ]
    },
    {
      "cell_type": "markdown",
      "source": [
        "Los objetos tienen atributos (miembros):\n",
        "\n",
        "\n",
        "\n",
        "*   **Datos**: información útil para el ojeto\n",
        "*   **Métodos** (funciones): operaciones sobre el propio objeto.\n",
        "\n",
        "Los atributos son accesibles con la siguiente notación: 'objeto.atributo'.\n",
        "\n",
        "Existen dos modos en que un objeto es usados en una función:"
      ],
      "metadata": {
        "id": "rMgGOlDANEcC"
      }
    },
    {
      "cell_type": "code",
      "source": [
        "#Pensándolo como un argumento explícito\n",
        "a = -3\n",
        "abs(a)"
      ],
      "metadata": {
        "colab": {
          "base_uri": "https://localhost:8080/"
        },
        "id": "kGn3yjdUNue5",
        "outputId": "764d7766-419c-424b-d324-bc75a2f919a6"
      },
      "execution_count": null,
      "outputs": [
        {
          "output_type": "execute_result",
          "data": {
            "text/plain": [
              "3"
            ]
          },
          "metadata": {},
          "execution_count": 5
        }
      ]
    },
    {
      "cell_type": "code",
      "source": [
        "#Llamándolo a uno de sus métodos\n",
        "a = \"hola\"\n",
        "a.upper()"
      ],
      "metadata": {
        "colab": {
          "base_uri": "https://localhost:8080/",
          "height": 36
        },
        "id": "9AKyKL33N1mA",
        "outputId": "3c4ce6c2-0562-46ec-b4c2-fbc7f18f95fb"
      },
      "execution_count": null,
      "outputs": [
        {
          "output_type": "execute_result",
          "data": {
            "text/plain": [
              "'HOLA'"
            ],
            "application/vnd.google.colaboratory.intrinsic+json": {
              "type": "string"
            }
          },
          "metadata": {},
          "execution_count": 7
        }
      ]
    },
    {
      "cell_type": "markdown",
      "source": [
        "Sea $z = 1+3i \\in \\mathbb{C}$, entonces:\n",
        "\n"
      ],
      "metadata": {
        "id": "-8LtNJHLOPNW"
      }
    },
    {
      "cell_type": "code",
      "source": [
        "a = 1 + 3j\n",
        "im = a.imag\n",
        "re = a.real\n",
        "print(\"La parte imaginaria de a es: \", im, \" y la parte real de a es: \", re)"
      ],
      "metadata": {
        "colab": {
          "base_uri": "https://localhost:8080/"
        },
        "id": "YBbGtLtoOcpl",
        "outputId": "b4668d49-40cd-4919-d2f4-aaa6ee3af1b6"
      },
      "execution_count": null,
      "outputs": [
        {
          "output_type": "stream",
          "name": "stdout",
          "text": [
            "La parte imaginaria de a es:  3.0  y la parte real de a es:  1.0\n"
          ]
        }
      ]
    },
    {
      "cell_type": "markdown",
      "source": [
        "# Tipos y variables\n",
        "\n",
        "---\n",
        "\n"
      ],
      "metadata": {
        "id": "Fl3Y_7KyQOwZ"
      }
    },
    {
      "cell_type": "markdown",
      "source": [
        "Todo objeto tiene un tipo asociado:"
      ],
      "metadata": {
        "id": "mk1fVwV8QYnI"
      }
    },
    {
      "cell_type": "code",
      "source": [
        "type(3)\n",
        "type(3.14)\n",
        "type('3')"
      ],
      "metadata": {
        "colab": {
          "base_uri": "https://localhost:8080/"
        },
        "id": "IQvRBXINQhGS",
        "outputId": "5f9f1aa8-45c4-4d7c-e667-dad2d64ea37a"
      },
      "execution_count": null,
      "outputs": [
        {
          "output_type": "execute_result",
          "data": {
            "text/plain": [
              "str"
            ]
          },
          "metadata": {},
          "execution_count": 18
        }
      ]
    },
    {
      "cell_type": "markdown",
      "source": [
        "### Listas\n",
        "\n",
        "---\n",
        "\n"
      ],
      "metadata": {
        "id": "OwxbizUyRrON"
      }
    },
    {
      "cell_type": "markdown",
      "source": [
        "Una lista es una manera de organizar objetos"
      ],
      "metadata": {
        "id": "A6CNmknjR5S-"
      }
    },
    {
      "cell_type": "code",
      "source": [
        "lista_1 = [1, 3.14, \"Hola\", False, True, {\"A\",\"S\"}]\n",
        "lista_1"
      ],
      "metadata": {
        "colab": {
          "base_uri": "https://localhost:8080/"
        },
        "id": "QSXpH-R1R-qx",
        "outputId": "bd06fd42-9319-4aaf-b3e3-d610ce2e507a"
      },
      "execution_count": null,
      "outputs": [
        {
          "output_type": "execute_result",
          "data": {
            "text/plain": [
              "[1, 3.14, 'Hola', False, True, {'A', 'S'}]"
            ]
          },
          "metadata": {},
          "execution_count": 2
        }
      ]
    },
    {
      "cell_type": "code",
      "source": [
        "type(lista_1)"
      ],
      "metadata": {
        "colab": {
          "base_uri": "https://localhost:8080/"
        },
        "id": "qeQ8CGeOSii7",
        "outputId": "5f4c2556-3140-4440-ac07-bdc57cf6db20"
      },
      "execution_count": null,
      "outputs": [
        {
          "output_type": "execute_result",
          "data": {
            "text/plain": [
              "list"
            ]
          },
          "metadata": {},
          "execution_count": 23
        }
      ]
    },
    {
      "cell_type": "markdown",
      "source": [
        "Si tengo una lista\n",
        "\n",
        "$$ L = [e_1, e_2, \\dots, e_n]$$\n",
        "\n",
        "entonces si quiero ingresar a alguno de los elementos $e_i$\n",
        "\n",
        "$$ L[i-1]$$"
      ],
      "metadata": {
        "id": "JoTBxgnbSljM"
      }
    },
    {
      "cell_type": "code",
      "source": [
        "lista_1[0]\n",
        "lista_1[5]\n",
        "type(lista_1[5])"
      ],
      "metadata": {
        "colab": {
          "base_uri": "https://localhost:8080/"
        },
        "id": "s-IpW8LjaDgo",
        "outputId": "f9e52b13-f8e6-40b4-ecaa-55575fbddced"
      },
      "execution_count": null,
      "outputs": [
        {
          "output_type": "execute_result",
          "data": {
            "text/plain": [
              "set"
            ]
          },
          "metadata": {},
          "execution_count": 5
        }
      ]
    },
    {
      "cell_type": "markdown",
      "source": [
        "Generador de índice (etiquetas en Python), esto se llama **range(n)**"
      ],
      "metadata": {
        "id": "SjaFZ14FaTdi"
      }
    },
    {
      "cell_type": "code",
      "source": [
        "range(10)"
      ],
      "metadata": {
        "colab": {
          "base_uri": "https://localhost:8080/"
        },
        "id": "3-ARBAQCacgk",
        "outputId": "53f18dff-9a93-4dc9-ef3a-70a1355cf3ba"
      },
      "execution_count": null,
      "outputs": [
        {
          "output_type": "execute_result",
          "data": {
            "text/plain": [
              "range(0, 10)"
            ]
          },
          "metadata": {},
          "execution_count": 6
        }
      ]
    },
    {
      "cell_type": "code",
      "source": [
        "for i in range(10):\n",
        "    print(i)"
      ],
      "metadata": {
        "id": "4VSQK2RKaf10",
        "outputId": "d87b81fd-304f-4390-9d72-87f1bd54a380",
        "colab": {
          "base_uri": "https://localhost:8080/"
        }
      },
      "execution_count": null,
      "outputs": [
        {
          "output_type": "stream",
          "name": "stdout",
          "text": [
            "0\n",
            "1\n",
            "2\n",
            "3\n",
            "4\n",
            "5\n",
            "6\n",
            "7\n",
            "8\n",
            "9\n"
          ]
        }
      ]
    }
  ]
}